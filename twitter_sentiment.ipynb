{
 "cells": [
  {
   "cell_type": "markdown",
   "metadata": {},
   "source": [
    "# Twitter Sentiment Analysis"
   ]
  },
  {
   "cell_type": "markdown",
   "metadata": {},
   "source": [
    "### Load Data"
   ]
  },
  {
   "cell_type": "code",
   "execution_count": 1,
   "metadata": {},
   "outputs": [],
   "source": [
    "# bring in twitter data\n",
    "import pandas as pd\n",
    "import json\n",
    "\n",
    "tweets = []\n",
    "\n",
    "txt_ = open('smilies_output.txt', 'r').read()\n",
    "for line in txt_.split('\\n'):\n",
    "    tweets.append(line)"
   ]
  },
  {
   "cell_type": "code",
   "execution_count": 2,
   "metadata": {},
   "outputs": [],
   "source": [
    "listjson = []\n",
    "for tweet in tweets:\n",
    "    try:\n",
    "        listjson.append(json.loads(tweet))\n",
    "    except:\n",
    "        pass"
   ]
  },
  {
   "cell_type": "code",
   "execution_count": 3,
   "metadata": {
    "collapsed": true,
    "jupyter": {
     "outputs_hidden": true
    }
   },
   "outputs": [
    {
     "data": {
      "text/plain": [
       "{'created_at': 'Thu Jan 07 16:38:11 +0000 2021',\n",
       " 'id': 1347221002191831044,\n",
       " 'id_str': '1347221002191831044',\n",
       " 'text': 'RT @burgerbot_: leftover a3 merch thread, pick whatever u want, only pay shipping ♡\\n\\ni got the rest of my kazunari lot in today and it had…',\n",
       " 'source': '<a href=\"http://twitter.com/#!/download/ipad\" rel=\"nofollow\">Twitter for iPad</a>',\n",
       " 'truncated': False,\n",
       " 'in_reply_to_status_id': None,\n",
       " 'in_reply_to_status_id_str': None,\n",
       " 'in_reply_to_user_id': None,\n",
       " 'in_reply_to_user_id_str': None,\n",
       " 'in_reply_to_screen_name': None,\n",
       " 'user': {'id': 1109236550762708992,\n",
       "  'id_str': '1109236550762708992',\n",
       "  'name': \"ganyu's wife ✨\",\n",
       "  'screen_name': 'burgerbot_',\n",
       "  'location': 'USA ✧ 24 ✧ they/he/hy',\n",
       "  'url': 'http://kazukai.carrd.co/',\n",
       "  'description': 'through spark and flame, i got your back ✧ no qrt ✧ rt heavy ✧ please read carrd byf',\n",
       "  'translator_type': 'none',\n",
       "  'protected': False,\n",
       "  'verified': False,\n",
       "  'followers_count': 426,\n",
       "  'friends_count': 515,\n",
       "  'listed_count': 14,\n",
       "  'favourites_count': 54519,\n",
       "  'statuses_count': 79484,\n",
       "  'created_at': 'Fri Mar 22 23:32:57 +0000 2019',\n",
       "  'utc_offset': None,\n",
       "  'time_zone': None,\n",
       "  'geo_enabled': False,\n",
       "  'lang': None,\n",
       "  'contributors_enabled': False,\n",
       "  'is_translator': False,\n",
       "  'profile_background_color': '000000',\n",
       "  'profile_background_image_url': 'http://abs.twimg.com/images/themes/theme1/bg.png',\n",
       "  'profile_background_image_url_https': 'https://abs.twimg.com/images/themes/theme1/bg.png',\n",
       "  'profile_background_tile': False,\n",
       "  'profile_link_color': 'F58EA8',\n",
       "  'profile_sidebar_border_color': '000000',\n",
       "  'profile_sidebar_fill_color': '000000',\n",
       "  'profile_text_color': '000000',\n",
       "  'profile_use_background_image': False,\n",
       "  'profile_image_url': 'http://pbs.twimg.com/profile_images/1346678848168058880/IowPmXG7_normal.jpg',\n",
       "  'profile_image_url_https': 'https://pbs.twimg.com/profile_images/1346678848168058880/IowPmXG7_normal.jpg',\n",
       "  'profile_banner_url': 'https://pbs.twimg.com/profile_banners/1109236550762708992/1609878493',\n",
       "  'default_profile': False,\n",
       "  'default_profile_image': False,\n",
       "  'following': None,\n",
       "  'follow_request_sent': None,\n",
       "  'notifications': None},\n",
       " 'geo': None,\n",
       " 'coordinates': None,\n",
       " 'place': None,\n",
       " 'contributors': None,\n",
       " 'retweeted_status': {'created_at': 'Wed Jan 06 20:38:03 +0000 2021',\n",
       "  'id': 1346918977449050112,\n",
       "  'id_str': '1346918977449050112',\n",
       "  'text': 'leftover a3 merch thread, pick whatever u want, only pay shipping ♡\\n\\ni got the rest of my kazunari lot in today and… https://t.co/upE7hcUSFD',\n",
       "  'source': '<a href=\"http://twitter.com/download/android\" rel=\"nofollow\">Twitter for Android</a>',\n",
       "  'truncated': True,\n",
       "  'in_reply_to_status_id': None,\n",
       "  'in_reply_to_status_id_str': None,\n",
       "  'in_reply_to_user_id': None,\n",
       "  'in_reply_to_user_id_str': None,\n",
       "  'in_reply_to_screen_name': None,\n",
       "  'user': {'id': 1109236550762708992,\n",
       "   'id_str': '1109236550762708992',\n",
       "   'name': \"ganyu's wife ✨\",\n",
       "   'screen_name': 'burgerbot_',\n",
       "   'location': 'USA ✧ 24 ✧ they/he/hy',\n",
       "   'url': 'http://kazukai.carrd.co/',\n",
       "   'description': 'through spark and flame, i got your back ✧ no qrt ✧ rt heavy ✧ please read carrd byf',\n",
       "   'translator_type': 'none',\n",
       "   'protected': False,\n",
       "   'verified': False,\n",
       "   'followers_count': 426,\n",
       "   'friends_count': 515,\n",
       "   'listed_count': 14,\n",
       "   'favourites_count': 54519,\n",
       "   'statuses_count': 79483,\n",
       "   'created_at': 'Fri Mar 22 23:32:57 +0000 2019',\n",
       "   'utc_offset': None,\n",
       "   'time_zone': None,\n",
       "   'geo_enabled': False,\n",
       "   'lang': None,\n",
       "   'contributors_enabled': False,\n",
       "   'is_translator': False,\n",
       "   'profile_background_color': '000000',\n",
       "   'profile_background_image_url': 'http://abs.twimg.com/images/themes/theme1/bg.png',\n",
       "   'profile_background_image_url_https': 'https://abs.twimg.com/images/themes/theme1/bg.png',\n",
       "   'profile_background_tile': False,\n",
       "   'profile_link_color': 'F58EA8',\n",
       "   'profile_sidebar_border_color': '000000',\n",
       "   'profile_sidebar_fill_color': '000000',\n",
       "   'profile_text_color': '000000',\n",
       "   'profile_use_background_image': False,\n",
       "   'profile_image_url': 'http://pbs.twimg.com/profile_images/1346678848168058880/IowPmXG7_normal.jpg',\n",
       "   'profile_image_url_https': 'https://pbs.twimg.com/profile_images/1346678848168058880/IowPmXG7_normal.jpg',\n",
       "   'profile_banner_url': 'https://pbs.twimg.com/profile_banners/1109236550762708992/1609878493',\n",
       "   'default_profile': False,\n",
       "   'default_profile_image': False,\n",
       "   'following': None,\n",
       "   'follow_request_sent': None,\n",
       "   'notifications': None},\n",
       "  'geo': None,\n",
       "  'coordinates': None,\n",
       "  'place': None,\n",
       "  'contributors': None,\n",
       "  'is_quote_status': False,\n",
       "  'extended_tweet': {'full_text': 'leftover a3 merch thread, pick whatever u want, only pay shipping ♡\\n\\ni got the rest of my kazunari lot in today and it had a lot of bundles so i figured i would share with everyone! hoping to find a good home for all these best boys :)',\n",
       "   'display_text_range': [0, 235],\n",
       "   'entities': {'hashtags': [],\n",
       "    'urls': [],\n",
       "    'user_mentions': [],\n",
       "    'symbols': []}},\n",
       "  'quote_count': 1,\n",
       "  'reply_count': 1,\n",
       "  'retweet_count': 3,\n",
       "  'favorite_count': 4,\n",
       "  'entities': {'hashtags': [],\n",
       "   'urls': [{'url': 'https://t.co/upE7hcUSFD',\n",
       "     'expanded_url': 'https://twitter.com/i/web/status/1346918977449050112',\n",
       "     'display_url': 'twitter.com/i/web/status/1…',\n",
       "     'indices': [117, 140]}],\n",
       "   'user_mentions': [],\n",
       "   'symbols': []},\n",
       "  'favorited': False,\n",
       "  'retweeted': False,\n",
       "  'filter_level': 'low',\n",
       "  'lang': 'en'},\n",
       " 'is_quote_status': False,\n",
       " 'quote_count': 0,\n",
       " 'reply_count': 0,\n",
       " 'retweet_count': 0,\n",
       " 'favorite_count': 0,\n",
       " 'entities': {'hashtags': [],\n",
       "  'urls': [],\n",
       "  'user_mentions': [{'screen_name': 'burgerbot_',\n",
       "    'name': \"ganyu's wife ✨\",\n",
       "    'id': 1109236550762708992,\n",
       "    'id_str': '1109236550762708992',\n",
       "    'indices': [3, 14]}],\n",
       "  'symbols': []},\n",
       " 'favorited': False,\n",
       " 'retweeted': False,\n",
       " 'filter_level': 'low',\n",
       " 'lang': 'en',\n",
       " 'timestamp_ms': '1610037491735'}"
      ]
     },
     "execution_count": 3,
     "metadata": {},
     "output_type": "execute_result"
    }
   ],
   "source": [
    "listjson[0]"
   ]
  },
  {
   "cell_type": "code",
   "execution_count": 4,
   "metadata": {},
   "outputs": [
    {
     "data": {
      "application/json": [
       {
        "contributors": null,
        "coordinates": null,
        "created_at": "Thu Jan 07 16:38:11 +0000 2021",
        "entities": {
         "hashtags": [],
         "symbols": [],
         "urls": [],
         "user_mentions": [
          {
           "id": 1109236550762709000,
           "id_str": "1109236550762708992",
           "indices": [
            3,
            14
           ],
           "name": "ganyu's wife ✨",
           "screen_name": "burgerbot_"
          }
         ]
        },
        "favorite_count": 0,
        "favorited": false,
        "filter_level": "low",
        "geo": null,
        "id": 1347221002191831000,
        "id_str": "1347221002191831044",
        "in_reply_to_screen_name": null,
        "in_reply_to_status_id": null,
        "in_reply_to_status_id_str": null,
        "in_reply_to_user_id": null,
        "in_reply_to_user_id_str": null,
        "is_quote_status": false,
        "lang": "en",
        "place": null,
        "quote_count": 0,
        "reply_count": 0,
        "retweet_count": 0,
        "retweeted": false,
        "retweeted_status": {
         "contributors": null,
         "coordinates": null,
         "created_at": "Wed Jan 06 20:38:03 +0000 2021",
         "entities": {
          "hashtags": [],
          "symbols": [],
          "urls": [
           {
            "display_url": "twitter.com/i/web/status/1…",
            "expanded_url": "https://twitter.com/i/web/status/1346918977449050112",
            "indices": [
             117,
             140
            ],
            "url": "https://t.co/upE7hcUSFD"
           }
          ],
          "user_mentions": []
         },
         "extended_tweet": {
          "display_text_range": [
           0,
           235
          ],
          "entities": {
           "hashtags": [],
           "symbols": [],
           "urls": [],
           "user_mentions": []
          },
          "full_text": "leftover a3 merch thread, pick whatever u want, only pay shipping ♡\n\ni got the rest of my kazunari lot in today and it had a lot of bundles so i figured i would share with everyone! hoping to find a good home for all these best boys :)"
         },
         "favorite_count": 4,
         "favorited": false,
         "filter_level": "low",
         "geo": null,
         "id": 1346918977449050000,
         "id_str": "1346918977449050112",
         "in_reply_to_screen_name": null,
         "in_reply_to_status_id": null,
         "in_reply_to_status_id_str": null,
         "in_reply_to_user_id": null,
         "in_reply_to_user_id_str": null,
         "is_quote_status": false,
         "lang": "en",
         "place": null,
         "quote_count": 1,
         "reply_count": 1,
         "retweet_count": 3,
         "retweeted": false,
         "source": "<a href=\"http://twitter.com/download/android\" rel=\"nofollow\">Twitter for Android</a>",
         "text": "leftover a3 merch thread, pick whatever u want, only pay shipping ♡\n\ni got the rest of my kazunari lot in today and… https://t.co/upE7hcUSFD",
         "truncated": true,
         "user": {
          "contributors_enabled": false,
          "created_at": "Fri Mar 22 23:32:57 +0000 2019",
          "default_profile": false,
          "default_profile_image": false,
          "description": "through spark and flame, i got your back ✧ no qrt ✧ rt heavy ✧ please read carrd byf",
          "favourites_count": 54519,
          "follow_request_sent": null,
          "followers_count": 426,
          "following": null,
          "friends_count": 515,
          "geo_enabled": false,
          "id": 1109236550762709000,
          "id_str": "1109236550762708992",
          "is_translator": false,
          "lang": null,
          "listed_count": 14,
          "location": "USA ✧ 24 ✧ they/he/hy",
          "name": "ganyu's wife ✨",
          "notifications": null,
          "profile_background_color": "000000",
          "profile_background_image_url": "http://abs.twimg.com/images/themes/theme1/bg.png",
          "profile_background_image_url_https": "https://abs.twimg.com/images/themes/theme1/bg.png",
          "profile_background_tile": false,
          "profile_banner_url": "https://pbs.twimg.com/profile_banners/1109236550762708992/1609878493",
          "profile_image_url": "http://pbs.twimg.com/profile_images/1346678848168058880/IowPmXG7_normal.jpg",
          "profile_image_url_https": "https://pbs.twimg.com/profile_images/1346678848168058880/IowPmXG7_normal.jpg",
          "profile_link_color": "F58EA8",
          "profile_sidebar_border_color": "000000",
          "profile_sidebar_fill_color": "000000",
          "profile_text_color": "000000",
          "profile_use_background_image": false,
          "protected": false,
          "screen_name": "burgerbot_",
          "statuses_count": 79483,
          "time_zone": null,
          "translator_type": "none",
          "url": "http://kazukai.carrd.co/",
          "utc_offset": null,
          "verified": false
         }
        },
        "source": "<a href=\"http://twitter.com/#!/download/ipad\" rel=\"nofollow\">Twitter for iPad</a>",
        "text": "RT @burgerbot_: leftover a3 merch thread, pick whatever u want, only pay shipping ♡\n\ni got the rest of my kazunari lot in today and it had…",
        "timestamp_ms": "1610037491735",
        "truncated": false,
        "user": {
         "contributors_enabled": false,
         "created_at": "Fri Mar 22 23:32:57 +0000 2019",
         "default_profile": false,
         "default_profile_image": false,
         "description": "through spark and flame, i got your back ✧ no qrt ✧ rt heavy ✧ please read carrd byf",
         "favourites_count": 54519,
         "follow_request_sent": null,
         "followers_count": 426,
         "following": null,
         "friends_count": 515,
         "geo_enabled": false,
         "id": 1109236550762709000,
         "id_str": "1109236550762708992",
         "is_translator": false,
         "lang": null,
         "listed_count": 14,
         "location": "USA ✧ 24 ✧ they/he/hy",
         "name": "ganyu's wife ✨",
         "notifications": null,
         "profile_background_color": "000000",
         "profile_background_image_url": "http://abs.twimg.com/images/themes/theme1/bg.png",
         "profile_background_image_url_https": "https://abs.twimg.com/images/themes/theme1/bg.png",
         "profile_background_tile": false,
         "profile_banner_url": "https://pbs.twimg.com/profile_banners/1109236550762708992/1609878493",
         "profile_image_url": "http://pbs.twimg.com/profile_images/1346678848168058880/IowPmXG7_normal.jpg",
         "profile_image_url_https": "https://pbs.twimg.com/profile_images/1346678848168058880/IowPmXG7_normal.jpg",
         "profile_link_color": "F58EA8",
         "profile_sidebar_border_color": "000000",
         "profile_sidebar_fill_color": "000000",
         "profile_text_color": "000000",
         "profile_use_background_image": false,
         "protected": false,
         "screen_name": "burgerbot_",
         "statuses_count": 79484,
         "time_zone": null,
         "translator_type": "none",
         "url": "http://kazukai.carrd.co/",
         "utc_offset": null,
         "verified": false
        }
       },
       {
        "contributors": null,
        "coordinates": null,
        "created_at": "Thu Jan 07 16:38:11 +0000 2021",
        "entities": {
         "hashtags": [],
         "media": [
          {
           "display_url": "pic.twitter.com/haFQ4vdipy",
           "expanded_url": "https://twitter.com/Showing_Off_/status/1347219291725295618/photo/1",
           "id": 1347219286864048000,
           "id_str": "1347219286864048130",
           "indices": [
            69,
            92
           ],
           "media_url": "http://pbs.twimg.com/media/ErJIzbQWMAIWZ70.jpg",
           "media_url_https": "https://pbs.twimg.com/media/ErJIzbQWMAIWZ70.jpg",
           "sizes": {
            "large": {
             "h": 1440,
             "resize": "fit",
             "w": 1440
            },
            "medium": {
             "h": 1200,
             "resize": "fit",
             "w": 1200
            },
            "small": {
             "h": 680,
             "resize": "fit",
             "w": 680
            },
            "thumb": {
             "h": 150,
             "resize": "crop",
             "w": 150
            }
           },
           "source_status_id": 1347219291725295600,
           "source_status_id_str": "1347219291725295618",
           "source_user_id": 838261913083658200,
           "source_user_id_str": "838261913083658240",
           "type": "photo",
           "url": "https://t.co/haFQ4vdipy"
          }
         ],
         "symbols": [],
         "urls": [],
         "user_mentions": [
          {
           "id": 838261913083658200,
           "id_str": "838261913083658240",
           "indices": [
            3,
            16
           ],
           "name": "Clothes On & Then Off 😜",
           "screen_name": "Showing_Off_"
          }
         ]
        },
        "extended_entities": {
         "media": [
          {
           "display_url": "pic.twitter.com/haFQ4vdipy",
           "expanded_url": "https://twitter.com/Showing_Off_/status/1347219291725295618/photo/1",
           "id": 1347219286864048000,
           "id_str": "1347219286864048130",
           "indices": [
            69,
            92
           ],
           "media_url": "http://pbs.twimg.com/media/ErJIzbQWMAIWZ70.jpg",
           "media_url_https": "https://pbs.twimg.com/media/ErJIzbQWMAIWZ70.jpg",
           "sizes": {
            "large": {
             "h": 1440,
             "resize": "fit",
             "w": 1440
            },
            "medium": {
             "h": 1200,
             "resize": "fit",
             "w": 1200
            },
            "small": {
             "h": 680,
             "resize": "fit",
             "w": 680
            },
            "thumb": {
             "h": 150,
             "resize": "crop",
             "w": 150
            }
           },
           "source_status_id": 1347219291725295600,
           "source_status_id_str": "1347219291725295618",
           "source_user_id": 838261913083658200,
           "source_user_id_str": "838261913083658240",
           "type": "photo",
           "url": "https://t.co/haFQ4vdipy"
          }
         ]
        },
        "favorite_count": 0,
        "favorited": false,
        "filter_level": "low",
        "geo": null,
        "id": 1347221002661490700,
        "id_str": "1347221002661490688",
        "in_reply_to_screen_name": null,
        "in_reply_to_status_id": null,
        "in_reply_to_status_id_str": null,
        "in_reply_to_user_id": null,
        "in_reply_to_user_id_str": null,
        "is_quote_status": false,
        "lang": "en",
        "place": null,
        "possibly_sensitive": false,
        "quote_count": 0,
        "reply_count": 0,
        "retweet_count": 0,
        "retweeted": false,
        "retweeted_status": {
         "contributors": null,
         "coordinates": null,
         "created_at": "Thu Jan 07 16:31:23 +0000 2021",
         "display_text_range": [
          0,
          50
         ],
         "entities": {
          "hashtags": [],
          "media": [
           {
            "display_url": "pic.twitter.com/haFQ4vdipy",
            "expanded_url": "https://twitter.com/Showing_Off_/status/1347219291725295618/photo/1",
            "id": 1347219286864048000,
            "id_str": "1347219286864048130",
            "indices": [
             51,
             74
            ],
            "media_url": "http://pbs.twimg.com/media/ErJIzbQWMAIWZ70.jpg",
            "media_url_https": "https://pbs.twimg.com/media/ErJIzbQWMAIWZ70.jpg",
            "sizes": {
             "large": {
              "h": 1440,
              "resize": "fit",
              "w": 1440
             },
             "medium": {
              "h": 1200,
              "resize": "fit",
              "w": 1200
             },
             "small": {
              "h": 680,
              "resize": "fit",
              "w": 680
             },
             "thumb": {
              "h": 150,
              "resize": "crop",
              "w": 150
             }
            },
            "type": "photo",
            "url": "https://t.co/haFQ4vdipy"
           }
          ],
          "symbols": [],
          "urls": [],
          "user_mentions": []
         },
         "extended_entities": {
          "media": [
           {
            "display_url": "pic.twitter.com/haFQ4vdipy",
            "expanded_url": "https://twitter.com/Showing_Off_/status/1347219291725295618/photo/1",
            "id": 1347219286864048000,
            "id_str": "1347219286864048130",
            "indices": [
             51,
             74
            ],
            "media_url": "http://pbs.twimg.com/media/ErJIzbQWMAIWZ70.jpg",
            "media_url_https": "https://pbs.twimg.com/media/ErJIzbQWMAIWZ70.jpg",
            "sizes": {
             "large": {
              "h": 1440,
              "resize": "fit",
              "w": 1440
             },
             "medium": {
              "h": 1200,
              "resize": "fit",
              "w": 1200
             },
             "small": {
              "h": 680,
              "resize": "fit",
              "w": 680
             },
             "thumb": {
              "h": 150,
              "resize": "crop",
              "w": 150
             }
            },
            "type": "photo",
            "url": "https://t.co/haFQ4vdipy"
           }
          ]
         },
         "favorite_count": 87,
         "favorited": false,
         "filter_level": "low",
         "geo": null,
         "id": 1347219291725295600,
         "id_str": "1347219291725295618",
         "in_reply_to_screen_name": null,
         "in_reply_to_status_id": null,
         "in_reply_to_status_id_str": null,
         "in_reply_to_user_id": null,
         "in_reply_to_user_id_str": null,
         "is_quote_status": false,
         "lang": "en",
         "place": null,
         "possibly_sensitive": true,
         "quote_count": 1,
         "reply_count": 2,
         "retweet_count": 13,
         "retweeted": false,
         "source": "<a href=\"https://summertimechannel.com/\" rel=\"nofollow\">ShowingOff</a>",
         "text": "What my patient sees vs. What the internet sees :) https://t.co/haFQ4vdipy",
         "truncated": false,
         "user": {
          "contributors_enabled": false,
          "created_at": "Sun Mar 05 05:36:29 +0000 2017",
          "default_profile": false,
          "default_profile_image": false,
          "description": "Girls, take a picture with your outfit on & another with your outfit off ❣️  DM us when you're horny ❣️ Hot, Sexy, and Naughty ❣️",
          "favourites_count": 1,
          "follow_request_sent": null,
          "followers_count": 119772,
          "following": null,
          "friends_count": 141,
          "geo_enabled": false,
          "id": 838261913083658200,
          "id_str": "838261913083658240",
          "is_translator": false,
          "lang": null,
          "listed_count": 629,
          "location": "Paradise",
          "name": "Clothes On & Then Off 😜",
          "notifications": null,
          "profile_background_color": "000000",
          "profile_background_image_url": "http://abs.twimg.com/images/themes/theme1/bg.png",
          "profile_background_image_url_https": "https://abs.twimg.com/images/themes/theme1/bg.png",
          "profile_background_tile": false,
          "profile_banner_url": "https://pbs.twimg.com/profile_banners/838261913083658240/1588896519",
          "profile_image_url": "http://pbs.twimg.com/profile_images/1184678129245265920/65ZU5fWb_normal.jpg",
          "profile_image_url_https": "https://pbs.twimg.com/profile_images/1184678129245265920/65ZU5fWb_normal.jpg",
          "profile_link_color": "E81C4F",
          "profile_sidebar_border_color": "000000",
          "profile_sidebar_fill_color": "000000",
          "profile_text_color": "000000",
          "profile_use_background_image": false,
          "protected": false,
          "screen_name": "Showing_Off_",
          "statuses_count": 1195,
          "time_zone": null,
          "translator_type": "none",
          "url": "http://Instagram.com/Sexiest.Girls21",
          "utc_offset": null,
          "verified": false
         }
        },
        "source": "<a href=\"http://twitter.com/download/android\" rel=\"nofollow\">Twitter for Android</a>",
        "text": "RT @Showing_Off_: What my patient sees vs. What the internet sees :) https://t.co/haFQ4vdipy",
        "timestamp_ms": "1610037491847",
        "truncated": false,
        "user": {
         "contributors_enabled": false,
         "created_at": "Sun Dec 06 00:43:48 +0000 2020",
         "default_profile": true,
         "default_profile_image": false,
         "description": "respect women and love their ass",
         "favourites_count": 1192,
         "follow_request_sent": null,
         "followers_count": 8,
         "following": null,
         "friends_count": 41,
         "geo_enabled": false,
         "id": 1335384344412741600,
         "id_str": "1335384344412741633",
         "is_translator": false,
         "lang": null,
         "listed_count": 0,
         "location": null,
         "name": "yolo",
         "notifications": null,
         "profile_background_color": "F5F8FA",
         "profile_background_image_url": "",
         "profile_background_image_url_https": "",
         "profile_background_tile": false,
         "profile_image_url": "http://abs.twimg.com/sticky/default_profile_images/default_profile_normal.png",
         "profile_image_url_https": "https://abs.twimg.com/sticky/default_profile_images/default_profile_normal.png",
         "profile_link_color": "1DA1F2",
         "profile_sidebar_border_color": "C0DEED",
         "profile_sidebar_fill_color": "DDEEF6",
         "profile_text_color": "333333",
         "profile_use_background_image": true,
         "protected": false,
         "screen_name": "yoloman8920",
         "statuses_count": 469,
         "time_zone": null,
         "translator_type": "none",
         "url": null,
         "utc_offset": null,
         "verified": false
        }
       }
      ],
      "text/plain": [
       "<IPython.core.display.JSON object>"
      ]
     },
     "execution_count": 4,
     "metadata": {
      "application/json": {
       "expanded": false,
       "root": "root"
      }
     },
     "output_type": "execute_result"
    }
   ],
   "source": [
    "from IPython.display import JSON\n",
    "\n",
    "JSON(listjson[:2])"
   ]
  },
  {
   "cell_type": "code",
   "execution_count": 6,
   "metadata": {},
   "outputs": [
    {
     "data": {
      "text/plain": [
       "'leftover a3 merch thread, pick whatever u want, only pay shipping ♡\\n\\ni got the rest of my kazunari lot in today and it had a lot of bundles so i figured i would share with everyone! hoping to find a good home for all these best boys :)'"
      ]
     },
     "execution_count": 6,
     "metadata": {},
     "output_type": "execute_result"
    }
   ],
   "source": [
    "listjson[0]['retweeted_status']['extended_tweet']['full_text']"
   ]
  },
  {
   "cell_type": "code",
   "execution_count": 7,
   "metadata": {},
   "outputs": [
    {
     "data": {
      "text/plain": [
       "'@beautdahyun__ @trulydoies im so sorry for your loss :( sending my deepest condolences for her family... may her rest in peace'"
      ]
     },
     "execution_count": 7,
     "metadata": {},
     "output_type": "execute_result"
    }
   ],
   "source": [
    "listjson[3]['text']"
   ]
  },
  {
   "cell_type": "code",
   "execution_count": 8,
   "metadata": {},
   "outputs": [
    {
     "data": {
      "text/plain": [
       "4020"
      ]
     },
     "execution_count": 8,
     "metadata": {},
     "output_type": "execute_result"
    }
   ],
   "source": [
    "len(listjson)"
   ]
  },
  {
   "cell_type": "code",
   "execution_count": 9,
   "metadata": {},
   "outputs": [],
   "source": [
    "text_only = []\n",
    "for i in range(0,len(listjson)):\n",
    "    tweet = listjson[i]['text']\n",
    "    text_only.append(tweet)"
   ]
  },
  {
   "cell_type": "code",
   "execution_count": 10,
   "metadata": {},
   "outputs": [],
   "source": [
    "df = pd.DataFrame(text_only, columns=['text'])"
   ]
  },
  {
   "cell_type": "code",
   "execution_count": 11,
   "metadata": {},
   "outputs": [
    {
     "data": {
      "text/html": [
       "<div>\n",
       "<style scoped>\n",
       "    .dataframe tbody tr th:only-of-type {\n",
       "        vertical-align: middle;\n",
       "    }\n",
       "\n",
       "    .dataframe tbody tr th {\n",
       "        vertical-align: top;\n",
       "    }\n",
       "\n",
       "    .dataframe thead th {\n",
       "        text-align: right;\n",
       "    }\n",
       "</style>\n",
       "<table border=\"1\" class=\"dataframe\">\n",
       "  <thead>\n",
       "    <tr style=\"text-align: right;\">\n",
       "      <th></th>\n",
       "      <th>text</th>\n",
       "    </tr>\n",
       "  </thead>\n",
       "  <tbody>\n",
       "    <tr>\n",
       "      <th>0</th>\n",
       "      <td>RT @burgerbot_: leftover a3 merch thread, pick...</td>\n",
       "    </tr>\n",
       "    <tr>\n",
       "      <th>1</th>\n",
       "      <td>RT @Showing_Off_: What my patient sees vs. Wha...</td>\n",
       "    </tr>\n",
       "    <tr>\n",
       "      <th>2</th>\n",
       "      <td>love 🥺💘🥺💘</td>\n",
       "    </tr>\n",
       "    <tr>\n",
       "      <th>3</th>\n",
       "      <td>@beautdahyun__ @trulydoies im so sorry for you...</td>\n",
       "    </tr>\n",
       "    <tr>\n",
       "      <th>4</th>\n",
       "      <td>oomfs u follow a trump supporter pls unfollow ...</td>\n",
       "    </tr>\n",
       "  </tbody>\n",
       "</table>\n",
       "</div>"
      ],
      "text/plain": [
       "                                                text\n",
       "0  RT @burgerbot_: leftover a3 merch thread, pick...\n",
       "1  RT @Showing_Off_: What my patient sees vs. Wha...\n",
       "2                                          love 🥺💘🥺💘\n",
       "3  @beautdahyun__ @trulydoies im so sorry for you...\n",
       "4  oomfs u follow a trump supporter pls unfollow ..."
      ]
     },
     "execution_count": 11,
     "metadata": {},
     "output_type": "execute_result"
    }
   ],
   "source": [
    "df.head()"
   ]
  },
  {
   "cell_type": "code",
   "execution_count": 12,
   "metadata": {},
   "outputs": [
    {
     "data": {
      "text/plain": [
       "text    803\n",
       "dtype: int64"
      ]
     },
     "execution_count": 12,
     "metadata": {},
     "output_type": "execute_result"
    }
   ],
   "source": [
    "# looks like some tweets are truncated... check to see how many have the smiley cut off\n",
    "df[(df['text'].str.contains(':\\)') == False) & (df['text'].str.contains(':\\(') == False)].count()"
   ]
  },
  {
   "cell_type": "code",
   "execution_count": 13,
   "metadata": {},
   "outputs": [],
   "source": [
    "# drop these from df\n",
    "to_drop = df[(df['text'].str.contains(':\\)') == False) & (df['text'].str.contains(':\\(') == False)]"
   ]
  },
  {
   "cell_type": "code",
   "execution_count": 14,
   "metadata": {},
   "outputs": [],
   "source": [
    "df.drop(labels=to_drop.index, axis=0, inplace=True)"
   ]
  },
  {
   "cell_type": "code",
   "execution_count": 15,
   "metadata": {},
   "outputs": [
    {
     "data": {
      "text/plain": [
       "text    3217\n",
       "dtype: int64"
      ]
     },
     "execution_count": 15,
     "metadata": {},
     "output_type": "execute_result"
    }
   ],
   "source": [
    "df.count()"
   ]
  },
  {
   "cell_type": "markdown",
   "metadata": {},
   "source": [
    "### Create target label"
   ]
  },
  {
   "cell_type": "code",
   "execution_count": 16,
   "metadata": {},
   "outputs": [],
   "source": [
    "# set label where :) = 1 and :( = 0)\n",
    "import numpy as np\n",
    "\n",
    "df['label'] = np.where(df['text'].str.contains(\":\\)\"), 1, 0)"
   ]
  },
  {
   "cell_type": "code",
   "execution_count": 17,
   "metadata": {},
   "outputs": [
    {
     "data": {
      "text/html": [
       "<div>\n",
       "<style scoped>\n",
       "    .dataframe tbody tr th:only-of-type {\n",
       "        vertical-align: middle;\n",
       "    }\n",
       "\n",
       "    .dataframe tbody tr th {\n",
       "        vertical-align: top;\n",
       "    }\n",
       "\n",
       "    .dataframe thead th {\n",
       "        text-align: right;\n",
       "    }\n",
       "</style>\n",
       "<table border=\"1\" class=\"dataframe\">\n",
       "  <thead>\n",
       "    <tr style=\"text-align: right;\">\n",
       "      <th></th>\n",
       "      <th>text</th>\n",
       "      <th>label</th>\n",
       "    </tr>\n",
       "  </thead>\n",
       "  <tbody>\n",
       "    <tr>\n",
       "      <th>1</th>\n",
       "      <td>RT @Showing_Off_: What my patient sees vs. Wha...</td>\n",
       "      <td>1</td>\n",
       "    </tr>\n",
       "    <tr>\n",
       "      <th>3</th>\n",
       "      <td>@beautdahyun__ @trulydoies im so sorry for you...</td>\n",
       "      <td>0</td>\n",
       "    </tr>\n",
       "    <tr>\n",
       "      <th>4</th>\n",
       "      <td>oomfs u follow a trump supporter pls unfollow ...</td>\n",
       "      <td>1</td>\n",
       "    </tr>\n",
       "    <tr>\n",
       "      <th>5</th>\n",
       "      <td>RT @Danny_Dark_O: It’s okay, he still has Twit...</td>\n",
       "      <td>1</td>\n",
       "    </tr>\n",
       "    <tr>\n",
       "      <th>7</th>\n",
       "      <td>RT @btsarmy2018x: Jungkook’s love for pizza is...</td>\n",
       "      <td>0</td>\n",
       "    </tr>\n",
       "  </tbody>\n",
       "</table>\n",
       "</div>"
      ],
      "text/plain": [
       "                                                text  label\n",
       "1  RT @Showing_Off_: What my patient sees vs. Wha...      1\n",
       "3  @beautdahyun__ @trulydoies im so sorry for you...      0\n",
       "4  oomfs u follow a trump supporter pls unfollow ...      1\n",
       "5  RT @Danny_Dark_O: It’s okay, he still has Twit...      1\n",
       "7  RT @btsarmy2018x: Jungkook’s love for pizza is...      0"
      ]
     },
     "execution_count": 17,
     "metadata": {},
     "output_type": "execute_result"
    }
   ],
   "source": [
    "df.head()"
   ]
  },
  {
   "cell_type": "markdown",
   "metadata": {},
   "source": [
    "### Clean Text"
   ]
  },
  {
   "cell_type": "code",
   "execution_count": 18,
   "metadata": {},
   "outputs": [],
   "source": [
    "# import regex\n",
    "import re\n",
    "\n",
    "# import nltk\n",
    "import nltk\n",
    "from nltk.tokenize import word_tokenize\n",
    "from nltk.corpus import stopwords"
   ]
  },
  {
   "cell_type": "code",
   "execution_count": 19,
   "metadata": {},
   "outputs": [
    {
     "data": {
      "text/plain": [
       "'RT @Showing_Off_: What my patient sees vs. What the internet sees :) https://t.co/haFQ4vdipy'"
      ]
     },
     "execution_count": 19,
     "metadata": {},
     "output_type": "execute_result"
    }
   ],
   "source": [
    "df.iloc[0]['text']"
   ]
  },
  {
   "cell_type": "code",
   "execution_count": 20,
   "metadata": {},
   "outputs": [],
   "source": [
    "processed_text = []\n",
    "\n",
    "for row in range(df.shape[0]):\n",
    "    doc = df.iloc[row]['text']\n",
    "    words = word_tokenize(doc)\n",
    "    # Remove all the special characters\n",
    "    words = [word for word in words if word.isalpha()]\n",
    "\n",
    "    # remove all characters less than 2\n",
    "    words = [word for word in words if len(word) > 2]\n",
    "\n",
    "    # Converting to Lowercase\n",
    "    words = [word.lower() for word in words]\n",
    "    \n",
    "    new_text = \" \".join(words)\n",
    "    processed_text.append(new_text)"
   ]
  },
  {
   "cell_type": "code",
   "execution_count": 21,
   "metadata": {
    "collapsed": true,
    "jupyter": {
     "outputs_hidden": true
    }
   },
   "outputs": [
    {
     "data": {
      "text/plain": [
       "['what patient sees what the internet sees https',\n",
       " 'trulydoies sorry for your loss sending deepest condolences for her family may her rest peace',\n",
       " 'oomfs follow trump supporter pls unfollow https',\n",
       " 'okay still has twitter until the tweet',\n",
       " 'jungkook love for pizza the cutest thing https',\n",
       " 'flowkv you guys know this what happened malaysia recently https',\n",
       " 'aww sorry hope isn dick you today those texts last were ridiculous here you need',\n",
       " 'bestialwraths respect you guys wan name names but will https',\n",
       " 'sad but that how will',\n",
       " 'unknxwnsxuls hey new this account and great you could this can get more moots any fandom']"
      ]
     },
     "execution_count": 21,
     "metadata": {},
     "output_type": "execute_result"
    }
   ],
   "source": [
    "processed_text[:10]"
   ]
  },
  {
   "cell_type": "code",
   "execution_count": 22,
   "metadata": {},
   "outputs": [],
   "source": [
    "df['processed_text'] = processed_text"
   ]
  },
  {
   "cell_type": "code",
   "execution_count": 23,
   "metadata": {},
   "outputs": [
    {
     "data": {
      "text/html": [
       "<div>\n",
       "<style scoped>\n",
       "    .dataframe tbody tr th:only-of-type {\n",
       "        vertical-align: middle;\n",
       "    }\n",
       "\n",
       "    .dataframe tbody tr th {\n",
       "        vertical-align: top;\n",
       "    }\n",
       "\n",
       "    .dataframe thead th {\n",
       "        text-align: right;\n",
       "    }\n",
       "</style>\n",
       "<table border=\"1\" class=\"dataframe\">\n",
       "  <thead>\n",
       "    <tr style=\"text-align: right;\">\n",
       "      <th></th>\n",
       "      <th>text</th>\n",
       "      <th>label</th>\n",
       "      <th>processed_text</th>\n",
       "    </tr>\n",
       "  </thead>\n",
       "  <tbody>\n",
       "    <tr>\n",
       "      <th>1</th>\n",
       "      <td>RT @Showing_Off_: What my patient sees vs. Wha...</td>\n",
       "      <td>1</td>\n",
       "      <td>what patient sees what the internet sees https</td>\n",
       "    </tr>\n",
       "    <tr>\n",
       "      <th>3</th>\n",
       "      <td>@beautdahyun__ @trulydoies im so sorry for you...</td>\n",
       "      <td>0</td>\n",
       "      <td>trulydoies sorry for your loss sending deepest...</td>\n",
       "    </tr>\n",
       "    <tr>\n",
       "      <th>4</th>\n",
       "      <td>oomfs u follow a trump supporter pls unfollow ...</td>\n",
       "      <td>1</td>\n",
       "      <td>oomfs follow trump supporter pls unfollow https</td>\n",
       "    </tr>\n",
       "    <tr>\n",
       "      <th>5</th>\n",
       "      <td>RT @Danny_Dark_O: It’s okay, he still has Twit...</td>\n",
       "      <td>1</td>\n",
       "      <td>okay still has twitter until the tweet</td>\n",
       "    </tr>\n",
       "    <tr>\n",
       "      <th>7</th>\n",
       "      <td>RT @btsarmy2018x: Jungkook’s love for pizza is...</td>\n",
       "      <td>0</td>\n",
       "      <td>jungkook love for pizza the cutest thing https</td>\n",
       "    </tr>\n",
       "  </tbody>\n",
       "</table>\n",
       "</div>"
      ],
      "text/plain": [
       "                                                text  label  \\\n",
       "1  RT @Showing_Off_: What my patient sees vs. Wha...      1   \n",
       "3  @beautdahyun__ @trulydoies im so sorry for you...      0   \n",
       "4  oomfs u follow a trump supporter pls unfollow ...      1   \n",
       "5  RT @Danny_Dark_O: It’s okay, he still has Twit...      1   \n",
       "7  RT @btsarmy2018x: Jungkook’s love for pizza is...      0   \n",
       "\n",
       "                                      processed_text  \n",
       "1     what patient sees what the internet sees https  \n",
       "3  trulydoies sorry for your loss sending deepest...  \n",
       "4    oomfs follow trump supporter pls unfollow https  \n",
       "5             okay still has twitter until the tweet  \n",
       "7     jungkook love for pizza the cutest thing https  "
      ]
     },
     "execution_count": 23,
     "metadata": {},
     "output_type": "execute_result"
    }
   ],
   "source": [
    "df.head()"
   ]
  },
  {
   "cell_type": "markdown",
   "metadata": {},
   "source": [
    "### Check for class imbalance"
   ]
  },
  {
   "cell_type": "code",
   "execution_count": 24,
   "metadata": {},
   "outputs": [
    {
     "name": "stdout",
     "output_type": "stream",
     "text": [
      "smiles: 2185\n",
      "unhappy: 1032\n"
     ]
    }
   ],
   "source": [
    "# check for class imbalance\n",
    "smile = df[df['label'] == 1].text.count()\n",
    "sad = df[df['label'] == 0].text.count()\n",
    "print(f'smiles: {smile}')\n",
    "print(f'unhappy: {sad}')"
   ]
  },
  {
   "cell_type": "code",
   "execution_count": 25,
   "metadata": {},
   "outputs": [],
   "source": [
    "# note the imbalance...oversample to create balanced dataset\n",
    "class_0 = df.loc[df['label']==0]\n",
    "class_1 = df.loc[df['label']==1]\n",
    "\n",
    "class_0_sample = class_0.sample(n=2185, replace=True)\n",
    "\n",
    "from sklearn.utils import shuffle\n",
    "balanced_df = pd.concat([class_1, class_0_sample], axis=0)\n",
    "balanced_df = shuffle(balanced_df)"
   ]
  },
  {
   "cell_type": "code",
   "execution_count": 26,
   "metadata": {},
   "outputs": [
    {
     "data": {
      "text/plain": [
       "(4370, 3)"
      ]
     },
     "execution_count": 26,
     "metadata": {},
     "output_type": "execute_result"
    }
   ],
   "source": [
    "balanced_df.shape"
   ]
  },
  {
   "cell_type": "code",
   "execution_count": 27,
   "metadata": {},
   "outputs": [
    {
     "data": {
      "text/plain": [
       "2185"
      ]
     },
     "execution_count": 27,
     "metadata": {},
     "output_type": "execute_result"
    }
   ],
   "source": [
    "balanced_df[balanced_df['label'] == 0].text.count()"
   ]
  },
  {
   "cell_type": "markdown",
   "metadata": {},
   "source": [
    "### Transform and train-test split"
   ]
  },
  {
   "cell_type": "code",
   "execution_count": 28,
   "metadata": {},
   "outputs": [],
   "source": [
    "# vectorize processed text\n",
    "from sklearn.feature_extraction.text import TfidfVectorizer\n",
    "\n",
    "vectorizer = TfidfVectorizer(max_features=2500, min_df=7, max_df=0.8, stop_words=stopwords.words('english'))"
   ]
  },
  {
   "cell_type": "code",
   "execution_count": 29,
   "metadata": {},
   "outputs": [],
   "source": [
    "transformed_text = vectorizer.fit_transform(df['processed_text'])"
   ]
  },
  {
   "cell_type": "code",
   "execution_count": 30,
   "metadata": {},
   "outputs": [],
   "source": [
    "# split into train and test\n",
    "from sklearn.model_selection import train_test_split\n",
    "\n",
    "X_train, X_test, y_train, y_test = train_test_split(transformed_text, df['label'], test_size=0.3, random_state=44)"
   ]
  },
  {
   "cell_type": "code",
   "execution_count": 31,
   "metadata": {},
   "outputs": [],
   "source": [
    "# balanced train test split\n",
    "Btransformed_text = vectorizer.fit_transform(balanced_df['processed_text'])\n",
    "\n",
    "Xb_train, Xb_test, yb_train, yb_test = train_test_split(Btransformed_text, balanced_df['label'], test_size=0.3, random_state=44)"
   ]
  },
  {
   "cell_type": "code",
   "execution_count": 32,
   "metadata": {},
   "outputs": [],
   "source": [
    "# densify sparse matrices for modelling\n",
    "X_train = X_train.todense()\n",
    "X_test = X_test.todense()\n",
    "Xb_train = Xb_train.todense()\n",
    "Xb_test = Xb_test.todense()"
   ]
  },
  {
   "cell_type": "markdown",
   "metadata": {},
   "source": [
    "### Baseline Logistic Regression Model"
   ]
  },
  {
   "cell_type": "code",
   "execution_count": 33,
   "metadata": {},
   "outputs": [
    {
     "name": "stdout",
     "output_type": "stream",
     "text": [
      "Train Accuracy: 0.7849844513549533\n",
      "Test Accuracy: 0.7556935817805382\n",
      "              precision    recall  f1-score   support\n",
      "\n",
      "           0       0.71      0.35      0.47       296\n",
      "           1       0.76      0.94      0.84       670\n",
      "\n",
      "    accuracy                           0.76       966\n",
      "   macro avg       0.74      0.64      0.65       966\n",
      "weighted avg       0.75      0.76      0.73       966\n",
      "\n"
     ]
    }
   ],
   "source": [
    "# baseline logistic regression\n",
    "from sklearn.linear_model import LogisticRegression\n",
    "from sklearn.metrics import classification_report\n",
    "\n",
    "classifier = LogisticRegression()\n",
    "classifier.fit(X_train,y_train)\n",
    "\n",
    "train_score = classifier.score(X_train, y_train)\n",
    "test_score = classifier.score(X_test,y_test)\n",
    "y_pred = classifier.predict(X_test)\n",
    "\n",
    "print('Train Accuracy:', train_score)\n",
    "print('Test Accuracy:', test_score)\n",
    "rep = classification_report(y_test, y_pred)\n",
    "print(rep)"
   ]
  },
  {
   "cell_type": "code",
   "execution_count": 34,
   "metadata": {},
   "outputs": [
    {
     "name": "stdout",
     "output_type": "stream",
     "text": [
      "Train Accuracy: 0.8241255312193527\n",
      "Test Accuracy: 0.7589626239511823\n",
      "              precision    recall  f1-score   support\n",
      "\n",
      "           0       0.72      0.82      0.77       631\n",
      "           1       0.81      0.70      0.75       680\n",
      "\n",
      "    accuracy                           0.76      1311\n",
      "   macro avg       0.76      0.76      0.76      1311\n",
      "weighted avg       0.77      0.76      0.76      1311\n",
      "\n"
     ]
    }
   ],
   "source": [
    "# Not bad...let's try the balanced dataset\n",
    "classifier = LogisticRegression()\n",
    "classifier.fit(Xb_train,yb_train)\n",
    "\n",
    "train_score = classifier.score(Xb_train, yb_train)\n",
    "test_score = classifier.score(Xb_test,yb_test)\n",
    "yb_pred = classifier.predict(Xb_test)\n",
    "\n",
    "print('Train Accuracy:', train_score)\n",
    "print('Test Accuracy:', test_score)\n",
    "rep = classification_report(yb_test, yb_pred)\n",
    "print(rep)"
   ]
  },
  {
   "cell_type": "markdown",
   "metadata": {},
   "source": [
    "### Try Random Forest"
   ]
  },
  {
   "cell_type": "code",
   "execution_count": 35,
   "metadata": {},
   "outputs": [],
   "source": [
    "from sklearn.ensemble import RandomForestClassifier\n",
    "\n",
    "classifier = RandomForestClassifier(n_estimators=100, random_state=4)"
   ]
  },
  {
   "cell_type": "code",
   "execution_count": 36,
   "metadata": {},
   "outputs": [
    {
     "name": "stdout",
     "output_type": "stream",
     "text": [
      "Train Accuracy: 0.9266992447800977\n",
      "Test Accuracy: 0.7463768115942029\n",
      "              precision    recall  f1-score   support\n",
      "\n",
      "           0       0.62      0.44      0.51       296\n",
      "           1       0.78      0.88      0.83       670\n",
      "\n",
      "    accuracy                           0.75       966\n",
      "   macro avg       0.70      0.66      0.67       966\n",
      "weighted avg       0.73      0.75      0.73       966\n",
      "\n"
     ]
    }
   ],
   "source": [
    "# imbalanced\n",
    "classifier.fit(X_train,y_train)\n",
    "\n",
    "train_score = classifier.score(X_train, y_train)\n",
    "test_score = classifier.score(X_test,y_test)\n",
    "y_pred = classifier.predict(X_test)\n",
    "\n",
    "print('Train Accuracy:', train_score)\n",
    "print('Test Accuracy:', test_score)\n",
    "rep = classification_report(y_test, y_pred)\n",
    "print(rep)"
   ]
  },
  {
   "cell_type": "code",
   "execution_count": 37,
   "metadata": {},
   "outputs": [
    {
     "name": "stdout",
     "output_type": "stream",
     "text": [
      "Train Accuracy: 0.9401765282772148\n",
      "Test Accuracy: 0.8283752860411899\n",
      "              precision    recall  f1-score   support\n",
      "\n",
      "           0       0.77      0.91      0.84       631\n",
      "           1       0.90      0.75      0.82       680\n",
      "\n",
      "    accuracy                           0.83      1311\n",
      "   macro avg       0.84      0.83      0.83      1311\n",
      "weighted avg       0.84      0.83      0.83      1311\n",
      "\n"
     ]
    }
   ],
   "source": [
    "# balanced \n",
    "classifier = RandomForestClassifier(n_estimators=100, random_state=4)\n",
    "classifier.fit(Xb_train,yb_train)\n",
    "\n",
    "train_score = classifier.score(Xb_train, yb_train)\n",
    "test_score = classifier.score(Xb_test,yb_test)\n",
    "yb_pred = classifier.predict(Xb_test)\n",
    "\n",
    "print('Train Accuracy:', train_score)\n",
    "print('Test Accuracy:', test_score)\n",
    "rep = classification_report(yb_test, yb_pred)\n",
    "print(rep)"
   ]
  },
  {
   "cell_type": "code",
   "execution_count": 38,
   "metadata": {},
   "outputs": [],
   "source": [
    "# better results with RF, some overfitting"
   ]
  },
  {
   "cell_type": "markdown",
   "metadata": {},
   "source": [
    "### Tokenize"
   ]
  },
  {
   "cell_type": "code",
   "execution_count": 39,
   "metadata": {},
   "outputs": [
    {
     "name": "stdout",
     "output_type": "stream",
     "text": [
      "[2239, 56, 84, 2240, 1004, 1005, 16, 210, 490, 3, 243, 33, 1005, 2241, 2242, 87, 115, 123, 1]\n"
     ]
    }
   ],
   "source": [
    "# tokenize inputs for modelling to address sparse matrix\n",
    "# work with Balanced datset from here on out\n",
    "from keras.preprocessing.text import Tokenizer\n",
    "\n",
    "Xb_train, Xb_test, yb_train, yb_test = train_test_split(balanced_df['processed_text'], balanced_df['label'], test_size=0.3, random_state=44)\n",
    "\n",
    "tokenizer = Tokenizer(num_words=5000)\n",
    "tokenizer.fit_on_texts(Xb_train)\n",
    "\n",
    "Xb_train = tokenizer.texts_to_sequences(Xb_train)\n",
    "Xb_test = tokenizer.texts_to_sequences(Xb_test)\n",
    "\n",
    "# Adding 1 because of reserved 0 index\n",
    "vocab_size = len(tokenizer.word_index) + 1\n",
    "\n",
    "print(Xb_train[2])\n"
   ]
  },
  {
   "cell_type": "code",
   "execution_count": 40,
   "metadata": {
    "collapsed": true,
    "jupyter": {
     "outputs_hidden": true
    }
   },
   "outputs": [
    {
     "name": "stdout",
     "output_type": "stream",
     "text": [
      "[2237 1404   37  260 1405  552 1406   19    5   55 1407 1404 1407    0\n",
      "    0    0    0    0    0    0    0    0    0    0    0    0    0    0\n",
      "    0    0    0    0    0    0    0    0    0    0    0    0    0    0\n",
      "    0    0    0    0    0    0    0    0    0    0    0    0    0    0\n",
      "    0    0    0    0    0    0    0    0    0    0    0    0    0    0\n",
      "    0    0    0    0    0    0    0    0    0    0    0    0    0    0\n",
      "    0    0    0    0    0    0    0    0    0    0    0    0    0    0\n",
      "    0    0    0    0    0    0    0    0    0    0    0    0    0    0\n",
      "    0    0    0    0    0    0    0    0    0    0    0    0    0    0\n",
      "    0    0    0    0    0    0    0    0    0    0    0    0    0    0\n",
      "    0    0    0    0    0    0    0    0    0    0    0    0    0    0\n",
      "    0    0    0    0    0    0    0    0    0    0    0    0    0    0\n",
      "    0    0    0    0    0    0    0    0    0    0    0    0    0    0\n",
      "    0    0    0    0    0    0    0    0    0    0    0    0    0    0\n",
      "    0    0    0    0    0    0    0    0    0    0    0    0    0    0\n",
      "    0    0    0    0    0    0    0    0    0    0    0    0    0    0\n",
      "    0    0    0    0    0    0    0    0    0    0    0    0    0    0\n",
      "    0    0    0    0    0    0    0    0    0    0    0    0    0    0\n",
      "    0    0    0    0    0    0    0    0    0    0    0    0    0    0\n",
      "    0    0    0    0    0    0    0    0    0    0    0    0    0    0]\n"
     ]
    }
   ],
   "source": [
    "# use 0's for padding, so that all sequences are the same length\n",
    "from keras.preprocessing.sequence import pad_sequences\n",
    "\n",
    "maxlen = 280\n",
    "\n",
    "Xb_train = pad_sequences(Xb_train, padding='post', maxlen=maxlen)\n",
    "Xb_test = pad_sequences(Xb_test, padding='post', maxlen=maxlen)\n",
    "\n",
    "print(Xb_train[0, :])"
   ]
  },
  {
   "cell_type": "code",
   "execution_count": 46,
   "metadata": {},
   "outputs": [
    {
     "data": {
      "text/plain": [
       "(3059, 280)"
      ]
     },
     "execution_count": 46,
     "metadata": {},
     "output_type": "execute_result"
    }
   ],
   "source": [
    "Xb_train.shape"
   ]
  },
  {
   "cell_type": "code",
   "execution_count": 47,
   "metadata": {},
   "outputs": [
    {
     "data": {
      "text/plain": [
       "(1311, 280)"
      ]
     },
     "execution_count": 47,
     "metadata": {},
     "output_type": "execute_result"
    }
   ],
   "source": [
    "Xb_test.shape"
   ]
  },
  {
   "cell_type": "code",
   "execution_count": 48,
   "metadata": {},
   "outputs": [
    {
     "data": {
      "text/plain": [
       "(3059,)"
      ]
     },
     "execution_count": 48,
     "metadata": {},
     "output_type": "execute_result"
    }
   ],
   "source": [
    "yb_train.shape"
   ]
  },
  {
   "cell_type": "code",
   "execution_count": 49,
   "metadata": {},
   "outputs": [
    {
     "data": {
      "text/plain": [
       "(1311,)"
      ]
     },
     "execution_count": 49,
     "metadata": {},
     "output_type": "execute_result"
    }
   ],
   "source": [
    "yb_test.shape"
   ]
  },
  {
   "cell_type": "markdown",
   "metadata": {},
   "source": [
    "### CNN Model"
   ]
  },
  {
   "cell_type": "code",
   "execution_count": 41,
   "metadata": {},
   "outputs": [
    {
     "name": "stdout",
     "output_type": "stream",
     "text": [
      "Model: \"sequential\"\n",
      "_________________________________________________________________\n",
      "Layer (type)                 Output Shape              Param #   \n",
      "=================================================================\n",
      "embedding (Embedding)        (None, 280, 50)           258200    \n",
      "_________________________________________________________________\n",
      "flatten (Flatten)            (None, 14000)             0         \n",
      "_________________________________________________________________\n",
      "dense (Dense)                (None, 10)                140010    \n",
      "_________________________________________________________________\n",
      "dense_1 (Dense)              (None, 1)                 11        \n",
      "=================================================================\n",
      "Total params: 398,221\n",
      "Trainable params: 398,221\n",
      "Non-trainable params: 0\n",
      "_________________________________________________________________\n"
     ]
    }
   ],
   "source": [
    "# build model with one hidden layer\n",
    "from keras.models import Sequential\n",
    "from keras import layers\n",
    "\n",
    "embedding_dim = 50\n",
    "\n",
    "model = Sequential()\n",
    "model.add(layers.Embedding(input_dim=vocab_size, \n",
    "                           output_dim=embedding_dim, \n",
    "                           input_length=maxlen))\n",
    "model.add(layers.Flatten())\n",
    "model.add(layers.Dense(10, activation='relu'))\n",
    "model.add(layers.Dense(1, activation='sigmoid'))\n",
    "model.compile(optimizer='adam',\n",
    "              loss='binary_crossentropy',\n",
    "              metrics=['accuracy'])\n",
    "model.summary()"
   ]
  },
  {
   "cell_type": "code",
   "execution_count": 42,
   "metadata": {},
   "outputs": [],
   "source": [
    "history = model.fit(Xb_train, yb_train,\n",
    "                   epochs=100,\n",
    "                   verbose=False,\n",
    "                   validation_data=(Xb_test, yb_test),\n",
    "                   batch_size=10)"
   ]
  },
  {
   "cell_type": "code",
   "execution_count": 43,
   "metadata": {},
   "outputs": [],
   "source": [
    "# create helper function to plot accuracy history\n",
    "import matplotlib.pyplot as plt\n",
    "plt.style.use('ggplot')\n",
    "\n",
    "def plot_history(history):\n",
    "    acc = history.history['accuracy']\n",
    "    val_acc = history.history['val_accuracy']\n",
    "    loss = history.history['loss']\n",
    "    val_loss = history.history['val_loss']\n",
    "    x = range(1, len(acc) + 1)\n",
    "\n",
    "    plt.figure(figsize=(12, 5))\n",
    "    plt.subplot(1, 2, 1)\n",
    "    plt.plot(x, acc, 'b', label='Training acc')\n",
    "    plt.plot(x, val_acc, 'r', label='Validation acc')\n",
    "    plt.title('Training and validation accuracy')\n",
    "    plt.legend()\n",
    "    plt.subplot(1, 2, 2)\n",
    "    plt.plot(x, loss, 'b', label='Training loss')\n",
    "    plt.plot(x, val_loss, 'r', label='Validation loss')\n",
    "    plt.title('Training and validation loss')\n",
    "    plt.legend()"
   ]
  },
  {
   "cell_type": "code",
   "execution_count": 53,
   "metadata": {},
   "outputs": [
    {
     "name": "stdout",
     "output_type": "stream",
     "text": [
      "Training Accuracy: 0.5080\n",
      "Testing Accuracy:  0.4813\n"
     ]
    },
    {
     "data": {
      "image/png": "[encoded data removed]",
      "text/plain": [
       "<Figure size 864x360 with 2 Axes>"
      ]
     },
     "metadata": {},
     "output_type": "display_data"
    }
   ],
   "source": [
    "loss, accuracy = model.evaluate(Xb_train, yb_train, verbose=False)\n",
    "print(\"Training Accuracy: {:.4f}\".format(accuracy))\n",
    "loss, accuracy = model.evaluate(Xb_test, yb_test, verbose=False)\n",
    "print(\"Testing Accuracy:  {:.4f}\".format(accuracy))\n",
    "plot_history(history)\n",
    "\n",
    "yb_pred = model.predict(Xb_test)"
   ]
  },
  {
   "cell_type": "code",
   "execution_count": 54,
   "metadata": {},
   "outputs": [],
   "source": [
    "from keras.backend import clear_session\n",
    "clear_session()"
   ]
  },
  {
   "cell_type": "code",
   "execution_count": 55,
   "metadata": {},
   "outputs": [
    {
     "name": "stdout",
     "output_type": "stream",
     "text": [
      "Model: \"sequential\"\n",
      "_________________________________________________________________\n",
      "Layer (type)                 Output Shape              Param #   \n",
      "=================================================================\n",
      "embedding (Embedding)        (None, 280, 50)           258200    \n",
      "_________________________________________________________________\n",
      "global_max_pooling1d (Global (None, 50)                0         \n",
      "_________________________________________________________________\n",
      "dense (Dense)                (None, 10)                510       \n",
      "_________________________________________________________________\n",
      "dense_1 (Dense)              (None, 1)                 11        \n",
      "=================================================================\n",
      "Total params: 258,721\n",
      "Trainable params: 258,721\n",
      "Non-trainable params: 0\n",
      "_________________________________________________________________\n"
     ]
    }
   ],
   "source": [
    "# let's try pooling\n",
    "embedding_dim = 50\n",
    "\n",
    "model = Sequential()\n",
    "model.add(layers.Embedding(input_dim=vocab_size, \n",
    "                           output_dim=embedding_dim, \n",
    "                           input_length=maxlen))\n",
    "model.add(layers.GlobalMaxPool1D())\n",
    "model.add(layers.Dense(10, activation='relu'))\n",
    "model.add(layers.Dense(1, activation='sigmoid'))\n",
    "model.compile(optimizer='adam',\n",
    "              loss='binary_crossentropy',\n",
    "              metrics=['accuracy'])\n",
    "\n",
    "model.summary()"
   ]
  },
  {
   "cell_type": "code",
   "execution_count": 56,
   "metadata": {},
   "outputs": [
    {
     "name": "stdout",
     "output_type": "stream",
     "text": [
      "Training Accuracy: 0.9971\n",
      "Testing Accuracy:  0.8566\n"
     ]
    },
    {
     "data": {
      "image/png": "[encoded data removed]",
      "text/plain": [
       "<Figure size 864x360 with 2 Axes>"
      ]
     },
     "metadata": {},
     "output_type": "display_data"
    }
   ],
   "source": [
    "# check model performance\n",
    "history = model.fit(Xb_train, yb_train,\n",
    "                    epochs=50,\n",
    "                    verbose=False,\n",
    "                    validation_data=(Xb_test, yb_test),\n",
    "                    batch_size=10)\n",
    "\n",
    "loss, accuracy = model.evaluate(Xb_train, yb_train, verbose=False)\n",
    "print(\"Training Accuracy: {:.4f}\".format(accuracy))\n",
    "loss, accuracy = model.evaluate(Xb_test, yb_test, verbose=False)\n",
    "print(\"Testing Accuracy:  {:.4f}\".format(accuracy))\n",
    "plot_history(history)"
   ]
  },
  {
   "cell_type": "code",
   "execution_count": 57,
   "metadata": {},
   "outputs": [],
   "source": [
    "from keras.backend import clear_session\n",
    "clear_session()"
   ]
  },
  {
   "cell_type": "code",
   "execution_count": 58,
   "metadata": {},
   "outputs": [
    {
     "name": "stdout",
     "output_type": "stream",
     "text": [
      "Model: \"sequential\"\n",
      "_________________________________________________________________\n",
      "Layer (type)                 Output Shape              Param #   \n",
      "=================================================================\n",
      "embedding (Embedding)        (None, 280, 100)          516400    \n",
      "_________________________________________________________________\n",
      "conv1d (Conv1D)              (None, 276, 128)          64128     \n",
      "_________________________________________________________________\n",
      "global_max_pooling1d (Global (None, 128)               0         \n",
      "_________________________________________________________________\n",
      "dense (Dense)                (None, 10)                1290      \n",
      "_________________________________________________________________\n",
      "dense_1 (Dense)              (None, 1)                 11        \n",
      "=================================================================\n",
      "Total params: 581,829\n",
      "Trainable params: 581,829\n",
      "Non-trainable params: 0\n",
      "_________________________________________________________________\n"
     ]
    }
   ],
   "source": [
    "# try adding CNN layer\n",
    "embedding_dim = 100\n",
    "\n",
    "model = Sequential()\n",
    "model.add(layers.Embedding(vocab_size, embedding_dim, input_length=maxlen))\n",
    "model.add(layers.Conv1D(128, 5, activation='relu'))\n",
    "model.add(layers.GlobalMaxPooling1D())\n",
    "model.add(layers.Dense(10, activation='relu'))\n",
    "model.add(layers.Dense(1, activation='sigmoid'))\n",
    "model.compile(optimizer='adam',\n",
    "              loss='binary_crossentropy',\n",
    "              metrics=['accuracy'])\n",
    "model.summary()"
   ]
  },
  {
   "cell_type": "code",
   "execution_count": 59,
   "metadata": {},
   "outputs": [],
   "source": [
    "# evaluate\n",
    "history = model.fit(Xb_train, yb_train,\n",
    "                    epochs=10,\n",
    "                    verbose=False,\n",
    "                    validation_data=(Xb_test, yb_test),\n",
    "                    batch_size=10)"
   ]
  },
  {
   "cell_type": "code",
   "execution_count": 60,
   "metadata": {},
   "outputs": [
    {
     "name": "stdout",
     "output_type": "stream",
     "text": [
      "Training Accuracy: 0.9964\n",
      "Testing Accuracy:  0.8642\n"
     ]
    },
    {
     "data": {
      "image/png": "[encoded data removed]",
      "text/plain": [
       "<Figure size 864x360 with 2 Axes>"
      ]
     },
     "metadata": {},
     "output_type": "display_data"
    }
   ],
   "source": [
    "loss, accuracy = model.evaluate(Xb_train, yb_train, verbose=False)\n",
    "print(\"Training Accuracy: {:.4f}\".format(accuracy))\n",
    "loss, accuracy = model.evaluate(Xb_test, yb_test, verbose=False)\n",
    "print(\"Testing Accuracy:  {:.4f}\".format(accuracy))\n",
    "plot_history(history)"
   ]
  },
  {
   "cell_type": "code",
   "execution_count": 61,
   "metadata": {},
   "outputs": [],
   "source": [
    "from keras.backend import clear_session\n",
    "clear_session()"
   ]
  },
  {
   "cell_type": "code",
   "execution_count": 62,
   "metadata": {},
   "outputs": [],
   "source": [
    "# try a few more epochs\n",
    "history = model.fit(Xb_train, yb_train,\n",
    "                    epochs=50,\n",
    "                    verbose=False,\n",
    "                    validation_data=(Xb_test, yb_test),\n",
    "                    batch_size=10)"
   ]
  },
  {
   "cell_type": "code",
   "execution_count": 63,
   "metadata": {},
   "outputs": [
    {
     "name": "stdout",
     "output_type": "stream",
     "text": [
      "Training Accuracy: 0.9974\n",
      "Testing Accuracy:  0.8551\n"
     ]
    },
    {
     "data": {
      "image/png": "[encoded data removed]",
      "text/plain": [
       "<Figure size 864x360 with 2 Axes>"
      ]
     },
     "metadata": {},
     "output_type": "display_data"
    }
   ],
   "source": [
    "loss, accuracy = model.evaluate(Xb_train, yb_train, verbose=False)\n",
    "print(\"Training Accuracy: {:.4f}\".format(accuracy))\n",
    "loss, accuracy = model.evaluate(Xb_test, yb_test, verbose=False)\n",
    "print(\"Testing Accuracy:  {:.4f}\".format(accuracy))\n",
    "plot_history(history)"
   ]
  },
  {
   "cell_type": "code",
   "execution_count": 64,
   "metadata": {},
   "outputs": [],
   "source": [
    "# Okay. Try GloVe for word embedding\n",
    "# create helper function to do so\n",
    "import numpy as np\n",
    "\n",
    "def create_embedding_matrix(filepath, word_index, embedding_dim):\n",
    "    vocab_size = len(word_index) + 1  # Adding again 1 because of reserved 0 index\n",
    "    embedding_matrix = np.zeros((vocab_size, embedding_dim))\n",
    "\n",
    "    with open(filepath) as f:\n",
    "        for line in f:\n",
    "            word, *vector = line.split()\n",
    "            if word in word_index:\n",
    "                idx = word_index[word] \n",
    "                embedding_matrix[idx] = np.array(\n",
    "                    vector, dtype=np.float32)[:embedding_dim]\n",
    "\n",
    "    return embedding_matrix"
   ]
  },
  {
   "cell_type": "code",
   "execution_count": 65,
   "metadata": {},
   "outputs": [],
   "source": [
    "# retrieve embedding matrix\n",
    "embedding_dim = 50\n",
    "embedding_matrix = create_embedding_matrix(\n",
    "    'glove/glove.6B.50d.txt',\n",
    "    tokenizer.word_index, embedding_dim)"
   ]
  },
  {
   "cell_type": "code",
   "execution_count": 66,
   "metadata": {},
   "outputs": [
    {
     "data": {
      "text/plain": [
       "0.00019364833462432224"
      ]
     },
     "execution_count": 66,
     "metadata": {},
     "output_type": "execute_result"
    }
   ],
   "source": [
    "# check embedding vectors\n",
    "nonzero_elements = np.count_nonzero(np.count_nonzero(embedding_matrix))\n",
    "nonzero_elements / vocab_size"
   ]
  },
  {
   "cell_type": "code",
   "execution_count": 67,
   "metadata": {},
   "outputs": [
    {
     "name": "stdout",
     "output_type": "stream",
     "text": [
      "Model: \"sequential\"\n",
      "_________________________________________________________________\n",
      "Layer (type)                 Output Shape              Param #   \n",
      "=================================================================\n",
      "embedding (Embedding)        (None, 280, 50)           258200    \n",
      "_________________________________________________________________\n",
      "global_max_pooling1d (Global (None, 50)                0         \n",
      "_________________________________________________________________\n",
      "dense (Dense)                (None, 10)                510       \n",
      "_________________________________________________________________\n",
      "dense_1 (Dense)              (None, 1)                 11        \n",
      "=================================================================\n",
      "Total params: 258,721\n",
      "Trainable params: 258,721\n",
      "Non-trainable params: 0\n",
      "_________________________________________________________________\n"
     ]
    }
   ],
   "source": [
    "# use matrix in model with pooling layer (no CNN)\n",
    "model = Sequential()\n",
    "model.add(layers.Embedding(vocab_size, embedding_dim, \n",
    "                           weights=[embedding_matrix], \n",
    "                           input_length=maxlen, \n",
    "                           trainable=True))\n",
    "\n",
    "model.add(layers.GlobalMaxPool1D())\n",
    "model.add(layers.Dense(10, activation='relu'))\n",
    "model.add(layers.Dense(1, activation='sigmoid'))\n",
    "model.compile(optimizer='adam',\n",
    "              loss='binary_crossentropy',\n",
    "              metrics=['accuracy'])\n",
    "\n",
    "model.summary()"
   ]
  },
  {
   "cell_type": "code",
   "execution_count": 68,
   "metadata": {},
   "outputs": [
    {
     "name": "stdout",
     "output_type": "stream",
     "text": [
      "Training Accuracy: 0.9967\n",
      "Testing Accuracy:  0.8482\n"
     ]
    },
    {
     "data": {
      "image/png": "[encoded data removed]",
      "text/plain": [
       "<Figure size 864x360 with 2 Axes>"
      ]
     },
     "metadata": {},
     "output_type": "display_data"
    }
   ],
   "source": [
    "# check performace\n",
    "history = model.fit(Xb_train, yb_train,\n",
    "                    epochs=20,\n",
    "                    verbose=False,\n",
    "                    validation_data=(Xb_test, yb_test),\n",
    "                    batch_size=10)\n",
    "\n",
    "loss, accuracy = model.evaluate(Xb_train, yb_train, verbose=False)\n",
    "print(\"Training Accuracy: {:.4f}\".format(accuracy))\n",
    "loss, accuracy = model.evaluate(Xb_test, yb_test, verbose=False)\n",
    "print(\"Testing Accuracy:  {:.4f}\".format(accuracy))\n",
    "plot_history(history)"
   ]
  },
  {
   "cell_type": "code",
   "execution_count": 148,
   "metadata": {},
   "outputs": [],
   "source": [
    "# define parameter grid\n",
    "param_grid = dict(num_filters=[32, 64, 128],\n",
    "                  kernel_size=[3, 5, 7],\n",
    "                  vocab_size=[5000], \n",
    "                  embedding_dim=[50],\n",
    "                  maxlen=[280])"
   ]
  },
  {
   "cell_type": "code",
   "execution_count": 149,
   "metadata": {},
   "outputs": [],
   "source": [
    "# try grid CNN search \n",
    "def create_model(num_filters, kernel_size, vocab_size, embedding_dim, maxlen):\n",
    "    model = Sequential()\n",
    "    model.add(layers.Embedding(vocab_size, embedding_dim, input_length=maxlen))\n",
    "    model.add(layers.Conv1D(num_filters, kernel_size, activation='relu'))\n",
    "    model.add(layers.GlobalMaxPooling1D())\n",
    "    model.add(layers.Dense(10, activation='relu'))\n",
    "    model.add(layers.Dense(1, activation='sigmoid'))\n",
    "    model.compile(optimizer='adam',\n",
    "                  loss='binary_crossentropy',\n",
    "                  metrics=['accuracy'])\n",
    "    return model"
   ]
  },
  {
   "cell_type": "code",
   "execution_count": 150,
   "metadata": {},
   "outputs": [
    {
     "name": "stdout",
     "output_type": "stream",
     "text": [
      "Fitting 4 folds for each of 5 candidates, totalling 20 fits\n",
      "Accuracy 0.8642258048057556\n",
      "Accuracy 0.8642258048057556\n",
      "best params: {'vocab_size': 5000, 'num_filters': 128, 'maxlen': 280, 'kernel_size': 3, 'embedding_dim': 50}\n"
     ]
    }
   ],
   "source": [
    "# grid search\n",
    "from keras.wrappers.scikit_learn import KerasClassifier\n",
    "from sklearn.model_selection import RandomizedSearchCV\n",
    "\n",
    "# Main settings\n",
    "epochs = 20\n",
    "embedding_dim = 50\n",
    "maxlen = 280\n",
    "output_file = 'output.txt'\n",
    "\n",
    "model = KerasClassifier(build_fn=create_model,\n",
    "                            epochs=epochs, batch_size=10,\n",
    "                            verbose=False)\n",
    "grid = RandomizedSearchCV(estimator=model, param_distributions=param_grid,\n",
    "                              cv=4, verbose=1, n_iter=5)\n",
    "grid_result = grid.fit(Xb_train, yb_train)\n",
    "\n",
    "# Evaluate testing set\n",
    "test_accuracy = grid.score(Xb_test, yb_test)\n",
    "train_accuracy = grid.score(Xb_train, yb_train)\n",
    "\n",
    "print(f'Accuracy {train_accuracy}')\n",
    "print(f'Accuracy {test_accuracy}')\n",
    "print(f'best params: {grid_result.best_params_}')\n"
   ]
  },
  {
   "cell_type": "code",
   "execution_count": null,
   "metadata": {},
   "outputs": [],
   "source": []
  }
 ],
 "metadata": {
  "kernelspec": {
   "display_name": "lighthouse",
   "language": "python",
   "name": "lighthouse"
  },
  "language_info": {
   "codemirror_mode": {
    "name": "ipython",
    "version": 3
   },
   "file_extension": ".py",
   "mimetype": "text/x-python",
   "name": "python",
   "nbconvert_exporter": "python",
   "pygments_lexer": "ipython3",
   "version": "3.8.2"
  }
 },
 "nbformat": 4,
 "nbformat_minor": 4
}
